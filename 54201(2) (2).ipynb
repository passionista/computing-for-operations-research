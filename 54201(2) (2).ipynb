{
 "cells": [
  {
   "cell_type": "code",
   "execution_count": null,
   "metadata": {},
   "outputs": [],
   "source": [
    "#load libraries \n",
    "import numpy as np\n",
    "import scipy.sparse as sp\n",
    "import cplex as cp"
   ]
  },
  {
   "cell_type": "code",
   "execution_count": null,
   "metadata": {},
   "outputs": [],
   "source": [
    "c = np.repeat(1, 24)\n",
    "print(c)\n",
    "senses = np.concatenate((np.repeat(\"E\", 6), np.repeat(\"L\", 12), np.repeat(\"G\", 4)))\n",
    "b = np.concatenate((np.repeat(1, 6),np.repeat(1, 12), np.repeat(1, 4)))\n",
    "l = np.repeat(0, 24)\n",
    "u = np.repeat(1, 24)\n",
    "types = np.repeat(\"B\", 24)\n",
    "\n",
    "A = np.zeros((22,24))\n",
    "\n",
    "aij = np.repeat(1, 72)\n",
    "row = np.concatenate((np.repeat(range(6), 4),(6 + np.repeat(range(12), 2)), 18 + np.repeat(range(4), 6)))\n",
    "col = np.concatenate((np.reshape(np.array(range(6*4)).reshape((4, 6)), newshape = (4*6, ), order = \"F\"), np.array(range(24)), np.array(range(24)) ))\n",
    "print(row)\n",
    "print(col)\n",
    "\n",
    "A = sp.csr_matrix((aij, (row, col)), shape = (22, 24))\n",
    "\n",
    "import matplotlib.pyplot as plt\n",
    "plt.figure(figsize = (6, 9))\n",
    "plt.spy(A, marker = \"o\")\n",
    "plt.show()"
   ]
  },
  {
   "cell_type": "code",
   "execution_count": null,
   "metadata": {},
   "outputs": [],
   "source": [
    "x_star, obj_star = linear_programming(\"minimize\", A, senses, b, c, l, u)\n",
    "\n",
    "print(x_star)\n",
    "print(obj_star)\n",
    "print(np.array(x_star).reshape(4,6))"
   ]
  },
  {
   "cell_type": "code",
   "execution_count": null,
   "metadata": {},
   "outputs": [],
   "source": []
  }
 ],
 "metadata": {
  "kernelspec": {
   "display_name": "Python 3",
   "language": "python",
   "name": "python3"
  },
  "language_info": {
   "codemirror_mode": {
    "name": "ipython",
    "version": 3
   },
   "file_extension": ".py",
   "mimetype": "text/x-python",
   "name": "python",
   "nbconvert_exporter": "python",
   "pygments_lexer": "ipython3",
   "version": "3.7.7"
  }
 },
 "nbformat": 4,
 "nbformat_minor": 4
}
