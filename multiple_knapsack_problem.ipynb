{
 "cells": [
  {
   "cell_type": "code",
   "execution_count": 14,
   "metadata": {},
   "outputs": [],
   "source": [
    "#load libraries \n",
    "import numpy as np\n",
    "import scipy.sparse as sp\n",
    "import cplex as cp"
   ]
  },
  {
   "cell_type": "code",
   "execution_count": 40,
   "metadata": {},
   "outputs": [],
   "source": [
    "def mixed_integer_linear_programming(direction, A, senses, b, c, l, u, types):\n",
    "    # create an empty optimization problem\n",
    "    prob = cp.Cplex()\n",
    "\n",
    "    # add decision variables to the problem including their coefficients in objective and ranges\n",
    "    prob.variables.add(obj = c.tolist(), lb = l.tolist(), ub = u.tolist(), types = types.tolist())\n",
    "\n",
    "    # define problem type\n",
    "    if direction == \"maximize\":\n",
    "        prob.objective.set_sense(prob.objective.sense.maximize)\n",
    "    else:\n",
    "        prob.objective.set_sense(prob.objective.sense.minimize)\n",
    "\n",
    "    # add constraints to the problem including their directions and right-hand side values\n",
    "    prob.linear_constraints.add(senses = senses.tolist(), rhs = b.tolist())\n",
    "\n",
    "    # add coefficients for each constraint\n",
    "    row_indices, col_indices = A.nonzero()\n",
    "    prob.linear_constraints.set_coefficients(zip(row_indices.tolist(), col_indices.tolist(), A.data.tolist()))\n",
    "\n",
    "    # solve the problem\n",
    "    prob.solve()\n",
    "    print(prob.write_as_string())\n",
    "\n",
    "    # check the solution status\n",
    "    print(prob.solution.get_status())\n",
    "    print(prob.solution.status[prob.solution.get_status()])\n",
    "\n",
    "    # get the solution\n",
    "    x_star = prob.solution.get_values()\n",
    "    obj_star = prob.solution.get_objective_value()\n",
    "\n",
    "    return(x_star, obj_star)"
   ]
  },
  {
   "cell_type": "code",
   "execution_count": 62,
   "metadata": {},
   "outputs": [],
   "source": [
    "def multiple_knapsack_problem(weights_file, values_file, capacity_file):\n",
    "    weights = np.loadtxt(weights_file)\n",
    "    values = np.loadtxt(values_file)\n",
    "    capacity = np.loadtxt(capacity_file)\n",
    "    \n",
    "    M = capacity.size\n",
    "    N = weights.size\n",
    "    C = capacity\n",
    "\n",
    "    c = np.concatenate((values, values))\n",
    "    senses = np.repeat(\"L\", M + N)\n",
    "    b = np.concatenate((np.array(capacity), np.repeat(1, N)))\n",
    "    l = np.repeat(0, N * M)\n",
    "    u = np.repeat(1, N * M)\n",
    "    types = np.repeat(\"B\", N * M)\n",
    "    \n",
    "    aij = np.concatenate((weights, weights, np.repeat(1, N * M)))\n",
    "    row = np.concatenate((np.repeat(range(M), N), M + np.repeat(range(N), M)))\n",
    "    col = np.concatenate((range(M * N), np.reshape(np.array(range(M * N)).reshape((M, N)), newshape = (M*N, ), order = \"F\")))\n",
    "    A = sp.csr_matrix((aij, (row, col)), shape = (N+M, N*M))\n",
    "    \n",
    "    import matplotlib.pyplot as plt\n",
    "    plt.figure(figsize = (6, 9))\n",
    "    plt.spy(A, marker = \"o\")\n",
    "    plt.show()\n",
    "\n",
    "    x_star, obj_star = mixed_integer_linear_programming(\"maximize\", A, senses,b, c, l, u, types)\n",
    "    return(x_star, obj_star)\n"
   ]
  },
  {
   "cell_type": "code",
   "execution_count": 63,
   "metadata": {},
   "outputs": [
    {
     "data": {
      "image/png": "[encoded data removed]",
      "text/plain": [
       "<Figure size 432x648 with 1 Axes>"
      ]
     },
     "metadata": {
      "needs_background": "light"
     },
     "output_type": "display_data"
    },
    {
     "name": "stdout",
     "output_type": "stream",
     "text": [
      "Version identifier: 12.10.0.0 | 2019-11-26 | 843d4de\n",
      "CPXPARAM_Read_DataCheck                          1\n",
      "Found incumbent of value 0.000000 after 0.00 sec. (0.00 ticks)\n",
      "Tried aggregator 1 time.\n",
      "MIP Presolve eliminated 1 rows and 1 columns.\n",
      "MIP Presolve modified 3 coefficients.\n",
      "Reduced MIP has 6 rows, 9 columns, and 17 nonzeros.\n",
      "Reduced MIP has 9 binaries, 0 generals, 0 SOSs, and 0 indicators.\n",
      "Presolve time = 0.02 sec. (0.02 ticks)\n",
      "Probing time = 0.00 sec. (0.00 ticks)\n",
      "Tried aggregator 1 time.\n",
      "Detecting symmetries...\n",
      "Reduced MIP has 6 rows, 9 columns, and 17 nonzeros.\n",
      "Reduced MIP has 9 binaries, 0 generals, 0 SOSs, and 0 indicators.\n",
      "Presolve time = 0.03 sec. (0.01 ticks)\n",
      "Probing time = 0.00 sec. (0.00 ticks)\n",
      "Clique table members: 9.\n",
      "MIP emphasis: balance optimality and feasibility.\n",
      "MIP search method: dynamic search.\n",
      "Parallel mode: deterministic, using up to 2 threads.\n",
      "Root relaxation solution time = 0.03 sec. (0.01 ticks)\n",
      "\n",
      "        Nodes                                         Cuts/\n",
      "   Node  Left     Objective  IInf  Best Integer    Best Bound    ItCnt     Gap\n",
      "\n",
      "*     0+    0                            0.0000      290.0000              --- \n",
      "*     0+    0                          120.0000      290.0000           141.67%\n",
      "      0     0      135.0000     1      120.0000      135.0000        5   12.50%\n",
      "      0     0        cutoff            120.0000      135.0000        5   12.50%\n",
      "Elapsed time = 0.13 sec. (0.08 ticks, tree = 0.01 MB, solutions = 2)\n",
      "\n",
      "Root node processing (before b&c):\n",
      "  Real time             =    0.13 sec. (0.08 ticks)\n",
      "Parallel b&c, 2 threads:\n",
      "  Real time             =    0.09 sec. (0.00 ticks)\n",
      "  Sync time (average)   =    0.03 sec.\n",
      "  Wait time (average)   =    0.00 sec.\n",
      "                          ------------\n",
      "Total (root+branch&cut) =    0.22 sec. (0.08 ticks)\n"
     ]
    },
    {
     "name": "stderr",
     "output_type": "stream",
     "text": [
      "Default variable names x1, x2 ... being created.\n",
      "Default row names c1, c2 ... being created.\n"
     ]
    },
    {
     "name": "stdout",
     "output_type": "stream",
     "text": [
      "\\ENCODING=ISO-8859-1\n",
      "\\Problem name: \n",
      "\n",
      "Maximize\n",
      " obj1: 50 x1 + 40 x2 + 30 x3 + 20 x4 + 10 x5 + 50 x6 + 40 x7 + 30 x8 + 20 x9\n",
      "       + 10 x10\n",
      "Subject To\n",
      " c1: 10 x1 + 20 x2 + 30 x3 + 40 x4 + 50 x5 <= 40\n",
      " c2: 10 x6 + 20 x7 + 30 x8 + 40 x9 + 50 x10 <= 50\n",
      " c3: x1 + x6 <= 1\n",
      " c4: x2 + x7 <= 1\n",
      " c5: x3 + x8 <= 1\n",
      " c6: x4 + x9 <= 1\n",
      " c7: x5 + x10 <= 1\n",
      "Bounds\n",
      " 0 <= x1 <= 1\n",
      " 0 <= x2 <= 1\n",
      " 0 <= x3 <= 1\n",
      " 0 <= x4 <= 1\n",
      " 0 <= x5 <= 1\n",
      " 0 <= x6 <= 1\n",
      " 0 <= x7 <= 1\n",
      " 0 <= x8 <= 1\n",
      " 0 <= x9 <= 1\n",
      " 0 <= x10 <= 1\n",
      "Binaries\n",
      " x1  x2  x3  x4  x5  x6  x7  x8  x9  x10 \n",
      "End\n",
      "\n",
      "101\n",
      "MIP_optimal\n",
      "[1.0, 1.0, 0.0, 0.0, 0.0, 0.0, 0.0, 1.0, 0.0, 0.0]\n",
      "120.0\n"
     ]
    }
   ],
   "source": [
    "x_star, obj_star = multiple_knapsack_problem(\"weights.txt\", \"values.txt\", \"capacities.txt\")\n",
    "print(x_star)\n",
    "print(obj_star)"
   ]
  }
 ],
 "metadata": {
  "kernelspec": {
   "display_name": "Python 3",
   "language": "python",
   "name": "python3"
  },
  "language_info": {
   "codemirror_mode": {
    "name": "ipython",
    "version": 3
   },
   "file_extension": ".py",
   "mimetype": "text/x-python",
   "name": "python",
   "nbconvert_exporter": "python",
   "pygments_lexer": "ipython3",
   "version": "3.7.7"
  }
 },
 "nbformat": 4,
 "nbformat_minor": 4
}
