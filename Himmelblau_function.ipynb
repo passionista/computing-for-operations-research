{
 "cells": [
  {
   "cell_type": "code",
   "execution_count": 42,
   "metadata": {},
   "outputs": [],
   "source": [
    "import numpy as np \n",
    "import scipy.optimize as opt"
   ]
  },
  {
   "cell_type": "code",
   "execution_count": 43,
   "metadata": {},
   "outputs": [],
   "source": [
    "def Himmelblau (x):\n",
    "    return (x[0]**2 + x[1] -11)**2 + (x[0] + x[1]**2 -7)**2"
   ]
  },
  {
   "cell_type": "code",
   "execution_count": 45,
   "metadata": {},
   "outputs": [],
   "source": [
    "def Himmelblau_derivative(x):\n",
    "    x1 = x[0]\n",
    "    x2 = x[1]\n",
    "    derivative = np.zeros_like(x)\n",
    "    derivative[0] = 4 * x1 * (x1**2 + x2 - 11) + 2 * (x1 + x2**2 - 7)\n",
    "    derivative[1] = 2 * (x1**2 + x2 - 11) + 4 * x2 * (x1 + x2**2 - 7)\n",
    "    return derivative"
   ]
  },
  {
   "cell_type": "code",
   "execution_count": 47,
   "metadata": {},
   "outputs": [],
   "source": [
    "def Himmelblau_second_derivative(x):\n",
    "    x1 = x[0]\n",
    "    x2 = x[1]\n",
    "    H = np.diag([4 * x1 + 4 * x2], 1) + np.diag([4 * x1 + 4 * x2], -1)\n",
    "    diagonal = np.zeros_like(x)\n",
    "    diagonal[0] = (4 * (3 * x1**2 + x2 -11) + 2)\n",
    "    diagonal[-1] = (4 * (x1 + 3 * x2**2 -7) + 2)\n",
    "    H = H + np.diag(diagonal)\n",
    "    return H\n"
   ]
  },
  {
   "cell_type": "code",
   "execution_count": 49,
   "metadata": {},
   "outputs": [],
   "source": [
    "def minimize_Himmelblau(x, method):\n",
    "    if method == \"Powell\":\n",
    "        res = opt.minimize(Himmelblau, x, method=\"powell\", options = {\"disp\": True})\n",
    "    elif method == \"BFGS\":\n",
    "        res = opt.minimize(Himmelblau, x0, method = \"BFGS\",\n",
    "                   jac = Himmelblau_derivative, options = {\"disp\": True})\n",
    "    elif method == \"Newton-CG\":\n",
    "        res = opt.minimize(Himmelblau, x0, method = \"Newton-CG\",\n",
    "                   jac = Himmelblau_derivative, hess = Himmelblau_second_derivative,\n",
    "                   options = {\"xtol\": 1e-8, \"disp\": True})\n",
    "        \n",
    "    return(res.x, res.fun)"
   ]
  },
  {
   "cell_type": "code",
   "execution_count": 53,
   "metadata": {},
   "outputs": [
    {
     "name": "stdout",
     "output_type": "stream",
     "text": [
      "Optimization terminated successfully.\n",
      "         Current function value: 0.000000\n",
      "         Iterations: 5\n",
      "         Function evaluations: 142\n"
     ]
    },
    {
     "data": {
      "text/plain": [
       "(array([ 3.58442834, -1.84812653]), 5.127595883936577e-29)"
      ]
     },
     "execution_count": 53,
     "metadata": {},
     "output_type": "execute_result"
    }
   ],
   "source": [
    "x0 = np.array([2, -4])\n",
    "minimize_Himmelblau(x0, \"Powell\")"
   ]
  }
 ],
 "metadata": {
  "kernelspec": {
   "display_name": "Python 3",
   "language": "python",
   "name": "python3"
  },
  "language_info": {
   "codemirror_mode": {
    "name": "ipython",
    "version": 3
   },
   "file_extension": ".py",
   "mimetype": "text/x-python",
   "name": "python",
   "nbconvert_exporter": "python",
   "pygments_lexer": "ipython3",
   "version": "3.7.7"
  }
 },
 "nbformat": 4,
 "nbformat_minor": 4
}
