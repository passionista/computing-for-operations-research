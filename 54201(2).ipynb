{
 "cells": [
  {
   "cell_type": "code",
   "execution_count": null,
   "metadata": {},
   "outputs": [],
   "source": [
    "#load libraries \n",
    "import numpy as np\n",
    "import scipy.sparse as sp\n",
    "import cplex as cp"
   ]
  },
  {
   "cell_type": "code",
   "execution_count": null,
   "metadata": {},
   "outputs": [],
   "source": [
    "def linear_programming(direction, A, senses, b, c, l, u):\n",
    "    # create an empty optimization problem\n",
    "    prob = cp.Cplex()\n",
    "\n",
    "    # add decision variables to the problem including their coefficients in objective and ranges\n",
    "    prob.variables.add(obj = c.tolist(), lb = l.tolist(), ub = u.tolist())\n",
    "\n",
    "    # define problem type\n",
    "    if direction == \"maximize\":\n",
    "        prob.objective.set_sense(prob.objective.sense.maximize)\n",
    "    else:\n",
    "        prob.objective.set_sense(prob.objective.sense.minimize)\n",
    "\n",
    "    # add constraints to the problem including their directions and right-hand side values\n",
    "    prob.linear_constraints.add(senses = senses.tolist(), rhs = b.tolist())\n",
    "\n",
    "    # add coefficients for each constraint\n",
    "    row_indices, col_indices = A.nonzero()\n",
    "    prob.linear_constraints.set_coefficients(zip(row_indices.tolist(), col_indices.tolist(), A.data.tolist()))\n",
    "\n",
    "    # solve the problem\n",
    "    prob.solve()\n",
    "\n",
    "    # check the solution status\n",
    "    print(prob.solution.get_status())\n",
    "    print(prob.solution.status[prob.solution.get_status()])\n",
    "\n",
    "    # get the solution\n",
    "    x_star = prob.solution.get_values()\n",
    "    obj_star = prob.solution.get_objective_value()\n",
    "\n",
    "    return(x_star, obj_star)"
   ]
  },
  {
   "cell_type": "code",
   "execution_count": null,
   "metadata": {},
   "outputs": [],
   "source": [
    "def assignment_problem(filename):\n",
    "    # read problem instance from file\n",
    "    problem = np.loadtxt(filename)\n",
    "\n",
    "    N = np.sqrt(problem.shape[0]).astype(int)\n",
    "\n",
    "    c = problem[:, 2]\n",
    "    senses = np.repeat(\"E\", 2 * N)\n",
    "    b = np.repeat(1, 2 * N)\n",
    "    l = np.repeat(0, N * N)\n",
    "    u = np.repeat(1, N * N)\n",
    "    types = np.repeat(\"B\", N * N)\n",
    "\n",
    "    aij = np.repeat(1.0, 2 * N * N)\n",
    "    row = np.repeat(range(2 * N), N)\n",
    "    col = np.concatenate((range(N * N), \n",
    "                          np.reshape(np.array(range(N * N)).reshape((N, N)), (N * N,), order = \"F\")))\n",
    "    A = sp.csr_matrix((aij, (row, col)), shape = (2 * N, N * N))\n",
    "\n",
    "    x_star, obj_star = mixed_integer_linear_programming(\"maximize\", A, senses, b, c, l, u, types)\n",
    "    return(x_star, obj_star)"
   ]
  },
  {
   "cell_type": "code",
   "execution_count": null,
   "metadata": {},
   "outputs": [],
   "source": [
    "D = 3\n",
    "S = 2\n"
   ]
  }
 ],
 "metadata": {
  "kernelspec": {
   "display_name": "Python 3",
   "language": "python",
   "name": "python3"
  },
  "language_info": {
   "codemirror_mode": {
    "name": "ipython",
    "version": 3
   },
   "file_extension": ".py",
   "mimetype": "text/x-python",
   "name": "python",
   "nbconvert_exporter": "python",
   "pygments_lexer": "ipython3",
   "version": "3.7.7"
  }
 },
 "nbformat": 4,
 "nbformat_minor": 4
}
