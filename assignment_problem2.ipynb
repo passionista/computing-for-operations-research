{
 "cells": [
  {
   "cell_type": "code",
   "execution_count": 15,
   "metadata": {},
   "outputs": [],
   "source": [
    "#load libraries \n",
    "import numpy as np\n",
    "import scipy.sparse as sp\n",
    "import cplex as cp"
   ]
  },
  {
   "cell_type": "code",
   "execution_count": 16,
   "metadata": {},
   "outputs": [
    {
     "name": "stdout",
     "output_type": "stream",
     "text": [
      "[1 1 1 1 1 1 1 1 1 1 1 1 1 1 1 1 1 1 1 1 1 1 1 1]\n",
      "[ 0  0  0  0  1  1  1  1  2  2  2  2  3  3  3  3  4  4  4  4  5  5  5  5\n",
      "  6  6  7  7  8  8  9  9 10 10 11 11 12 12 13 13 14 14 15 15 16 16 17 17\n",
      " 18 18 18 18 18 18 19 19 19 19 19 19 20 20 20 20 20 20 21 21 21 21 21 21]\n",
      "[ 0  6 12 18  1  7 13 19  2  8 14 20  3  9 15 21  4 10 16 22  5 11 17 23\n",
      "  0  1  2  3  4  5  6  7  8  9 10 11 12 13 14 15 16 17 18 19 20 21 22 23\n",
      "  0  1  2  3  4  5  6  7  8  9 10 11 12 13 14 15 16 17 18 19 20 21 22 23]\n"
     ]
    },
    {
     "data": {
      "image/png": "[encoded data removed]",
      "text/plain": [
       "<Figure size 432x648 with 1 Axes>"
      ]
     },
     "metadata": {
      "needs_background": "light"
     },
     "output_type": "display_data"
    }
   ],
   "source": [
    "c = np.repeat(1, 24)\n",
    "print(c)\n",
    "senses = np.concatenate((np.repeat(\"E\", 6), np.repeat(\"L\", 12), np.repeat(\"G\", 4)))\n",
    "b = np.concatenate((np.repeat(1, 6),np.repeat(1, 12), np.repeat(1, 4)))\n",
    "l = np.repeat(0, 24)\n",
    "u = np.repeat(1, 24)\n",
    "types = np.repeat(\"B\", 24)\n",
    "\n",
    "A = np.zeros((22,24))\n",
    "\n",
    "aij = np.repeat(1, 72)\n",
    "row = np.concatenate((np.repeat(range(6), 4),(6 + np.repeat(range(12), 2)), 18 + np.repeat(range(4), 6)))\n",
    "col = np.concatenate((np.reshape(np.array(range(6*4)).reshape((4, 6)), newshape = (4*6, ), order = \"F\"), np.array(range(24)), np.array(range(24)) ))\n",
    "print(row)\n",
    "print(col)\n",
    "\n",
    "A = sp.csr_matrix((aij, (row, col)), shape = (22, 24))\n",
    "\n",
    "import matplotlib.pyplot as plt\n",
    "plt.figure(figsize = (6, 9))\n",
    "plt.spy(A, marker = \"o\")\n",
    "plt.show()"
   ]
  },
  {
   "cell_type": "code",
   "execution_count": 12,
   "metadata": {},
   "outputs": [
    {
     "name": "stdout",
     "output_type": "stream",
     "text": [
      "Version identifier: 12.10.0.0 | 2019-11-26 | 843d4de\n",
      "CPXPARAM_Read_DataCheck                          1\n",
      "Tried aggregator 1 time.\n",
      "Reduced LP has 22 rows, 24 columns, and 72 nonzeros.\n",
      "Presolve time = 0.00 sec. (0.02 ticks)\n",
      "Symmetry aggregator did 42 additional substitutions.\n",
      "\n",
      "Iteration log . . .\n",
      "Iteration:     1   Dual objective     =             6.000000\n",
      "\n",
      "Dual crossover.\n",
      "  Dual:  Fixed no variables.\n",
      "  Primal:  Fixing 18 variables.\n",
      "       17 PMoves:  Infeasibility  0.00000000e+00  Objective  6.00000000e+00\n",
      "        0 PMoves:  Infeasibility  0.00000000e+00  Objective  6.00000000e+00\n",
      "  Primal:  Pushed 13, exchanged 5.\n",
      "1\n",
      "optimal\n",
      "[1.0, 0.0, 1.0, 0.0, 0.0, 1.0, 0.0, 0.0, 0.0, 0.0, 1.0, 0.0, 0.0, 1.0, 0.0, 0.0, 0.0, 0.0, 0.0, 0.0, 0.0, 1.0, 0.0, 0.0]\n",
      "6.0\n",
      "[[1. 0. 1. 0. 0. 1.]\n",
      " [0. 0. 0. 0. 1. 0.]\n",
      " [0. 1. 0. 0. 0. 0.]\n",
      " [0. 0. 0. 1. 0. 0.]]\n"
     ]
    }
   ],
   "source": [
    "x_star, obj_star = linear_programming(\"minimize\", A, senses, b, c, l, u)\n",
    "\n",
    "print(x_star)\n",
    "print(obj_star)\n",
    "print(np.array(x_star).reshape(4,6))"
   ]
  },
  {
   "cell_type": "code",
   "execution_count": null,
   "metadata": {},
   "outputs": [],
   "source": []
  }
 ],
 "metadata": {
  "kernelspec": {
   "display_name": "Python 3",
   "language": "python",
   "name": "python3"
  },
  "language_info": {
   "codemirror_mode": {
    "name": "ipython",
    "version": 3
   },
   "file_extension": ".py",
   "mimetype": "text/x-python",
   "name": "python",
   "nbconvert_exporter": "python",
   "pygments_lexer": "ipython3",
   "version": "3.7.7"
  }
 },
 "nbformat": 4,
 "nbformat_minor": 4
}
